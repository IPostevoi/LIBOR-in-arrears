{
 "cells": [
  {
   "cell_type": "markdown",
   "metadata": {},
   "source": [
    "### Параметры\n",
    "\n"
   ]
  },
  {
   "cell_type": "code",
   "execution_count": 347,
   "metadata": {},
   "outputs": [],
   "source": [
    "import numpy as np\n",
    "from scipy.integrate import quad\n",
    "from scipy import stats\n",
    "import matplotlib.pyplot as plt\n",
    "from scipy.interpolate import spline\n",
    "%matplotlib inline"
   ]
  },
  {
   "cell_type": "code",
   "execution_count": 348,
   "metadata": {},
   "outputs": [],
   "source": [
    "folder = 'pics/'"
   ]
  },
  {
   "cell_type": "code",
   "execution_count": 349,
   "metadata": {},
   "outputs": [],
   "source": [
    "tau = 0.5\n",
    "a = 0.7\n",
    "b = 0.05\n",
    "theta = a * b\n",
    "sigma = 0.1\n",
    "T_n = 30.\n",
    "r_t = 0.05"
   ]
  },
  {
   "cell_type": "code",
   "execution_count": 350,
   "metadata": {},
   "outputs": [],
   "source": [
    "def B(t, T):\n",
    "    return (1 - np.e ** (- a * (T - t))) / a\n",
    "\n",
    "\n",
    "def A(t, T):\n",
    "    return np.e ** ((B(t, T) - (T - t)) * (theta / a - sigma ** 2 / (2 * a ** 2)) - sigma ** 2 * B(t, T) ** 2 / (4 * a))"
   ]
  },
  {
   "cell_type": "code",
   "execution_count": 351,
   "metadata": {},
   "outputs": [],
   "source": [
    "def P(t, T):\n",
    "    return A(t, T) * np.e ** (- r_t * B(t, T))"
   ]
  },
  {
   "cell_type": "code",
   "execution_count": 352,
   "metadata": {},
   "outputs": [],
   "source": [
    "def libor(t, T1, T2):\n",
    "    return (P(t, T1) - P(t, T2)) / (tau * P(t, T2))"
   ]
  },
  {
   "cell_type": "code",
   "execution_count": 353,
   "metadata": {},
   "outputs": [],
   "source": [
    "def convexity_adj(t, T1, T2):\n",
    "    \n",
    "    I = (sigma**2 / a**2) * (1/(2*a) - 1/(2*a) * np.e ** (-2*a*(T1-t)) -\\\n",
    "                           1/a * np.e**(-a*(T2-T1)) + 1/(a) * np.e**(-a*(T1+T2) + 2*a*t) + \\\n",
    "                           1/(2*a) * np.e**(-2*a*(T2-T1)) - 1/(2*a) * np.e**(-2*a*(T2-t))) \n",
    "                           \n",
    "    return ((P(t, T2) / (tau * P(t, T1))) * ((P(t, T1) / P(t, T2))**2 * np.e ** I - 2 * (P(t, T1) / P(t, T2)) + 1) + \\\n",
    "                            libor(t, T1, T2) * (P(t, T2) - P(t, T1)) / P(t, T1))"
   ]
  },
  {
   "cell_type": "code",
   "execution_count": 354,
   "metadata": {},
   "outputs": [],
   "source": [
    "def convexity_adj_earl(t, T1, Te, T2):\n",
    "    \n",
    "    I = (sigma**2 / a**2) * 1/(2*a) * (np.e**(-a*(T1-Te)) - np.e**(-a*(T1+Te-2*t)) - np.e**(-a*(T2-Te)) + \\\n",
    "                                       np.e**(-a*(T2+Te-2*t)) - np.e**(-a*(T1+T2-2*Te)) + np.e**(-a*(T1+T2-2*t)) + \\\n",
    "                                       np.e**(-2*a*(T2-Te)) - np.e**(-2*a*(T2-t)))\n",
    "    \n",
    "    return libor(t, T1, T2) * (P(t, T2)-P(t, Te)) / P(t, Te) + \\\n",
    "           P(t, T2)/(P(t, Te)*tau) * (P(t, T1)*P(t, Te)/(P(t, T2)*P(t, T2))*np.e**I - P(t, T1)/P(t, T2) - P(t, Te)/P(t, T2) + 1)                       "
   ]
  },
  {
   "cell_type": "code",
   "execution_count": 355,
   "metadata": {},
   "outputs": [],
   "source": [
    "def convexity_adj_later(t, T1, Tl, T2):\n",
    "    \n",
    "    I = (sigma**2 / a**2) * 1/(2*a) * (np.e**(-a*(Tl-T1)) - np.e**(-a*(T1+Tl-2*t)) - np.e**(-a*(T2-T1)) + \\\n",
    "                                       np.e**(-a*(T1+T2-2*t)) - np.e**(-a*(T2+Tl-2*T1)) + np.e**(-a*(T2+Tl-2*t)) + \\\n",
    "                                       np.e**(-2*a*(T2-T1))-np.e**(-2*a*(T2-t)))\n",
    "    \n",
    "    return libor(t, T1, T2) * (P(t, T2)-P(t, Tl)) / P(t, Tl) + \\\n",
    "           P(t, T2)/(P(t, Tl)*tau) * (P(t, T1)*P(t, Tl)/(P(t, T2)*P(t, T2))*np.e**I - P(t, T1)/P(t, T2) - P(t, Tl)/P(t, T2) + 1)\n",
    "    \n",
    "    "
   ]
  },
  {
   "cell_type": "code",
   "execution_count": 356,
   "metadata": {},
   "outputs": [],
   "source": [
    "def convexity_after_T2(t, Tl, T1, T2):\n",
    "    \n",
    "    I = (sigma**2 / a**2) * 1/(2*a) * (np.e**(-a*(Tl-T1)) - np.e**(-a*(T1+Tl-2*t)) - np.e**(-a*(T2-T1)) + \\\n",
    "                                       np.e**(-a*(T1+T2-2*t)) - np.e**(-a*(T2+Tl-2*T1)) + np.e**(-a*(T2+Tl-2*t)) + \\\n",
    "                                       np.e**(-2*a*(T2-T1))-np.e**(-2*a*(T2-t)))\n",
    "    \n",
    "    return P(t, T2)/(P(t, Tl)*tau) * (P(t, Tl)/P(t, T2)*P(t, T1)/P(t,T2)*np.e**I - P(t, Tl)/P(t,T2)) - libor(t, T1, T2)"
   ]
  },
  {
   "cell_type": "code",
   "execution_count": 357,
   "metadata": {},
   "outputs": [
    {
     "data": {
      "text/plain": [
       "0.48999999999999994"
      ]
     },
     "execution_count": 357,
     "metadata": {},
     "output_type": "execute_result"
    }
   ],
   "source": [
    "0.7**2"
   ]
  },
  {
   "cell_type": "code",
   "execution_count": 358,
   "metadata": {},
   "outputs": [],
   "source": [
    "T = np.arange(0, T_n, tau)"
   ]
  },
  {
   "cell_type": "code",
   "execution_count": 359,
   "metadata": {
    "scrolled": false
   },
   "outputs": [
    {
     "data": {
      "text/plain": [
       "0.48850002112458846"
      ]
     },
     "execution_count": 359,
     "metadata": {},
     "output_type": "execute_result"
    }
   ],
   "source": [
    "tau * P(0, 1.5) / ( P(0, 1))"
   ]
  },
  {
   "cell_type": "code",
   "execution_count": 360,
   "metadata": {},
   "outputs": [],
   "source": [
    "t=0.0\n",
    "T1=0.0\n",
    "T2=0.5\n",
    "I = sigma**2 / a**2 * (1/(2*a) - 1/(2*a) * np.e ** (-2*a*(T1-t)) -\\\n",
    "                           1/a * np.e**(-a*(T2-T1)) + 1/(2*a) * np.e**(-a*(T1+T2) + 2*a*t) + \\\n",
    "                           1/(2*a) * np.e**(-2*a*(T2-T1)) - 1/(2*a) * np.e**(-2*a*(T2-t)))"
   ]
  },
  {
   "cell_type": "code",
   "execution_count": 361,
   "metadata": {},
   "outputs": [
    {
     "data": {
      "text/plain": [
       "-0.031260385421041814"
      ]
     },
     "execution_count": 361,
     "metadata": {},
     "output_type": "execute_result"
    }
   ],
   "source": [
    "((P(t, T1) / P(t, T2))**2 * np.e**(3 * I) - 2 * (P(t, T1) / P(t, T2)) + 1) * P(t, T1)"
   ]
  },
  {
   "cell_type": "code",
   "execution_count": 362,
   "metadata": {},
   "outputs": [
    {
     "data": {
      "text/plain": [
       "1.0401910975867603"
      ]
     },
     "execution_count": 362,
     "metadata": {},
     "output_type": "execute_result"
    }
   ],
   "source": [
    "(P(t, T1) / P(t, T2)) ** 2 * np.e**I"
   ]
  },
  {
   "cell_type": "code",
   "execution_count": 363,
   "metadata": {},
   "outputs": [
    {
     "data": {
      "text/plain": [
       "0.9897801599858889"
      ]
     },
     "execution_count": 363,
     "metadata": {},
     "output_type": "execute_result"
    }
   ],
   "source": [
    "np.e**I"
   ]
  },
  {
   "cell_type": "code",
   "execution_count": 364,
   "metadata": {
    "scrolled": true
   },
   "outputs": [],
   "source": [
    "convexity1 = np.zeros(len(T))\n",
    "convexity2 = np.zeros(len(T))\n",
    "convexity_earl = np.zeros(len(T))\n",
    "convexity_later = np.zeros(len(T))\n",
    "convexity_after = np.zeros(len(T))\n",
    "libor1 = np.zeros(len(T))\n",
    "for i in np.arange(len(T)-1):\n",
    "    convexity1[i] = convexity_adj(0, T[i], T[i+1])\n",
    "    convexity_earl[i] = convexity_adj_earl(0, T[i], T[i]-0.5, T[i+1])\n",
    "    convexity_later[i] = convexity_adj_later(0, T[i], T[i]+0.2, T[i+1])\n",
    "    libor1[i] = libor(0, T[i], T[i+1])\n",
    "    convexity_after[i] = convexity_after_T2(0, T[i+1] + 0.2, T[i], T[i+1])\n",
    "    \n",
    "    \n",
    "b = 0.5\n",
    "theta = a * b\n",
    "\n",
    "convexity2 = np.zeros(len(T))\n",
    "for i in np.arange(len(T)-1):\n",
    "    convexity2[i] = convexity_adj(0, T[i], T[i+1])    "
   ]
  },
  {
   "cell_type": "code",
   "execution_count": 365,
   "metadata": {
    "scrolled": false
   },
   "outputs": [
    {
     "name": "stderr",
     "output_type": "stream",
     "text": [
      "C:\\Users\\THINK\\Anaconda2\\lib\\site-packages\\ipykernel_launcher.py:2: DeprecationWarning: `spline` is deprecated!\n",
      "spline is deprecated in scipy 0.19.0, use Bspline class instead.\n",
      "  \n",
      "C:\\Users\\THINK\\Anaconda2\\lib\\site-packages\\ipykernel_launcher.py:3: DeprecationWarning: `spline` is deprecated!\n",
      "spline is deprecated in scipy 0.19.0, use Bspline class instead.\n",
      "  This is separate from the ipykernel package so we can avoid doing imports until\n",
      "C:\\Users\\THINK\\Anaconda2\\lib\\site-packages\\ipykernel_launcher.py:4: DeprecationWarning: `spline` is deprecated!\n",
      "spline is deprecated in scipy 0.19.0, use Bspline class instead.\n",
      "  after removing the cwd from sys.path.\n",
      "C:\\Users\\THINK\\Anaconda2\\lib\\site-packages\\ipykernel_launcher.py:5: DeprecationWarning: `spline` is deprecated!\n",
      "spline is deprecated in scipy 0.19.0, use Bspline class instead.\n",
      "  \"\"\"\n",
      "C:\\Users\\THINK\\Anaconda2\\lib\\site-packages\\ipykernel_launcher.py:6: DeprecationWarning: `spline` is deprecated!\n",
      "spline is deprecated in scipy 0.19.0, use Bspline class instead.\n",
      "  \n"
     ]
    },
    {
     "data": {
      "image/png": "[encoded data removed]",
      "text/plain": [
       "<matplotlib.figure.Figure at 0xb3446d8>"
      ]
     },
     "metadata": {},
     "output_type": "display_data"
    }
   ],
   "source": [
    "T_new = np.linspace(T.min(), T.max(), 300)\n",
    "conv1_smooth = spline(T, convexity1, T_new)\n",
    "conv2_smooth = spline(T, convexity2, T_new)\n",
    "conv_earl_smooth = spline(T, convexity_earl, T_new)\n",
    "conv_later_smooth = spline(T, convexity_later, T_new)\n",
    "libor_smooth = spline(T, libor1, T_new)\n",
    "\n",
    "fig = plt.figure(figsize=(8, 6), dpi= 80, facecolor='w', edgecolor='k')\n",
    "plt.plot(T_new, conv1_smooth * 10000, label='$\\\\theta = 0.035$')\n",
    "plt.plot(T_new, conv2_smooth * 10000, label='$\\\\theta = 0.35$')\n",
    "plt.legend(prop={'size':13})\n",
    "plt.axis([0, 10, 0, 36])\n",
    "plt.grid(True)\n",
    "plt.title(u'Поправка к форвардной LIBOR ставке, bps(0.01%)', fontsize=15)\n",
    "plt.ylabel('$CA(t, T_i, T_{i+1})$, bps', fontsize=14)\n",
    "plt.xlabel(u'$T_i$, года', fontsize=14)\n",
    "plt.show()\n",
    "\n",
    "fig.savefig(folder + 'conv-adj.png', dpi=fig.dpi, transparent=True)"
   ]
  },
  {
   "cell_type": "code",
   "execution_count": 366,
   "metadata": {},
   "outputs": [],
   "source": [
    "b_floor = 0.01\n",
    "b_ceil = 2\n",
    "th = np.linspace(a*b_floor, a*b_ceil, 10000)\n",
    "convexity_theta = np.zeros(len(th))\n",
    "T1 = 5\n",
    "T2 = T1 + tau\n",
    "for i in np.arange(len(th)):\n",
    "    theta = th[i]\n",
    "    convexity_theta[i] = convexity_adj(0, T1, T2)"
   ]
  },
  {
   "cell_type": "code",
   "execution_count": 367,
   "metadata": {
    "scrolled": false
   },
   "outputs": [
    {
     "data": {
      "image/png": "[encoded data removed]",
      "text/plain": [
       "<matplotlib.figure.Figure at 0xb332cc0>"
      ]
     },
     "metadata": {},
     "output_type": "display_data"
    }
   ],
   "source": [
    "fig = plt.figure(figsize=(8, 6), dpi= 80, facecolor='w', edgecolor='k')\n",
    "plt.plot(th, convexity_theta * 10000)\n",
    "# plt.legend(prop={'size':13})\n",
    "# plt.axis([0, 10, 0, 36])\n",
    "plt.grid(True)\n",
    "plt.title(u'Поправка к форвардной LIBOR ставке, bps(0.01%)', fontsize=15)\n",
    "plt.ylabel('$CA(0, 5, 5.5)(\\\\theta)$, bps', fontsize=14)\n",
    "plt.xlabel(u'$\\\\theta$, bps', fontsize=14)\n",
    "plt.show()\n",
    "\n",
    "fig.savefig(folder + 'conv-adj-mean_rev.png', dpi=fig.dpi, transparent=True)"
   ]
  },
  {
   "cell_type": "code",
   "execution_count": 368,
   "metadata": {},
   "outputs": [
    {
     "name": "stderr",
     "output_type": "stream",
     "text": [
      "C:\\Users\\THINK\\Anaconda2\\lib\\site-packages\\ipykernel_launcher.py:2: DeprecationWarning: `spline` is deprecated!\n",
      "spline is deprecated in scipy 0.19.0, use Bspline class instead.\n",
      "  \n",
      "C:\\Users\\THINK\\Anaconda2\\lib\\site-packages\\ipykernel_launcher.py:3: DeprecationWarning: `spline` is deprecated!\n",
      "spline is deprecated in scipy 0.19.0, use Bspline class instead.\n",
      "  This is separate from the ipykernel package so we can avoid doing imports until\n",
      "C:\\Users\\THINK\\Anaconda2\\lib\\site-packages\\ipykernel_launcher.py:4: DeprecationWarning: `spline` is deprecated!\n",
      "spline is deprecated in scipy 0.19.0, use Bspline class instead.\n",
      "  after removing the cwd from sys.path.\n",
      "C:\\Users\\THINK\\Anaconda2\\lib\\site-packages\\ipykernel_launcher.py:5: DeprecationWarning: `spline` is deprecated!\n",
      "spline is deprecated in scipy 0.19.0, use Bspline class instead.\n",
      "  \"\"\"\n",
      "C:\\Users\\THINK\\Anaconda2\\lib\\site-packages\\ipykernel_launcher.py:6: DeprecationWarning: `spline` is deprecated!\n",
      "spline is deprecated in scipy 0.19.0, use Bspline class instead.\n",
      "  \n",
      "C:\\Users\\THINK\\Anaconda2\\lib\\site-packages\\ipykernel_launcher.py:7: DeprecationWarning: `spline` is deprecated!\n",
      "spline is deprecated in scipy 0.19.0, use Bspline class instead.\n",
      "  import sys\n"
     ]
    },
    {
     "data": {
      "image/png": "[encoded data removed]",
      "text/plain": [
       "<matplotlib.figure.Figure at 0xb0f3ef0>"
      ]
     },
     "metadata": {},
     "output_type": "display_data"
    }
   ],
   "source": [
    "T_new = np.linspace(T.min(), T.max(), 300)\n",
    "conv1_smooth = spline(T, convexity1, T_new)\n",
    "conv2_smooth = spline(T, convexity2, T_new)\n",
    "conv_earl_smooth = spline(T[1:], convexity_earl[1:], T_new[5:])\n",
    "conv_later_smooth = spline(T, convexity_later, T_new)\n",
    "conv_after_smooth = spline(T, convexity_after, T_new)\n",
    "libor_smooth = spline(T, libor1, T_new)\n",
    "\n",
    "fig = plt.figure(figsize=(8, 6), dpi= 80, facecolor='w', edgecolor='k')\n",
    "plt.plot(T_new, conv1_smooth*10000, label='$LIA$')\n",
    "plt.plot(T_new[5:], conv_earl_smooth*10000, label='$LIA^*$')\n",
    "plt.plot(T_new, conv_later_smooth*10000, label='$LIA\\'$, $T\\'=T_{i}+0.2$')\n",
    "plt.plot(T_new, conv_after_smooth*10000, label='$LIA\\'$, $T\\'=T_{i+1}+0.2$')\n",
    "# plt.plot(T_new, libor_smooth, label='$libor$')\n",
    "# plt.axvline(x=0.5)\n",
    "plt.legend(prop={'size':11}, bbox_to_anchor=(1, 0.35))\n",
    "plt.axis([0, 10, -10, 35])\n",
    "plt.grid(True)\n",
    "plt.title(u'Поправка к форвардной LIBOR ставке, bps(0.01%)', fontsize=15)\n",
    "plt.ylabel('$CA(t, T_i, T_{i+1})$, bps', fontsize=14)\n",
    "plt.xlabel(u'$T_i$, года', fontsize=14)\n",
    "\n",
    "plt.axhline(25.99, c='black', ls='--')\n",
    "plt.axhline(31.228, c='black', ls='--')\n",
    "plt.axhline(14.48, c='black', ls='--')\n",
    "plt.axhline(-8.096, c='black', ls='--')\n",
    "\n",
    "plt.show()\n",
    "\n",
    "fig.savefig(folder + 'conv-adj_comp.png', dpi=fig.dpi, transparent=True)"
   ]
  },
  {
   "cell_type": "code",
   "execution_count": 369,
   "metadata": {
    "scrolled": true
   },
   "outputs": [
    {
     "name": "stdout",
     "output_type": "stream",
     "text": [
      "1.0421828492246603\n",
      "1.0441303964161879\n",
      "1.0439790304630698\n",
      "1.0436844316249698\n"
     ]
    }
   ],
   "source": [
    "b=0.05\n",
    "print libor(0, 0.5, 1)\n",
    "print libor(0, 0.5, 1) + convexity_adj(0, 0.5, 1)\n",
    "print libor(0, 0.5, 1) + convexity_adj_earl(0, 0.5, 0.4, 1)\n",
    "print libor(0, 0.5, 1) + convexity_adj_later(0, 0.5, 0.6, 1)"
   ]
  },
  {
   "cell_type": "code",
   "execution_count": 370,
   "metadata": {},
   "outputs": [
    {
     "name": "stdout",
     "output_type": "stream",
     "text": [
      "0.001947547191527621\n",
      "0.0015129123267547673\n"
     ]
    }
   ],
   "source": [
    "print convexity_adj(0, 0.5, 1)\n",
    "print convexity_adj_earl(0, 0.5, 0.3, 1)"
   ]
  },
  {
   "cell_type": "code",
   "execution_count": 371,
   "metadata": {},
   "outputs": [
    {
     "name": "stdout",
     "output_type": "stream",
     "text": [
      "0.3877010658531316\n",
      "0.3877010658531316\n",
      "0.3877010658531316\n"
     ]
    }
   ],
   "source": [
    "print libor(0, 0, 0.5)\n",
    "print libor(0, 0, 0.5) + convexity_adj_earl(-0.2, 0, -0.2, 0.5)\n",
    "print libor(0, 0, 0.5) + convexity_adj(0, 0, 0.5)"
   ]
  },
  {
   "cell_type": "markdown",
   "metadata": {},
   "source": [
    "$\\tau$"
   ]
  },
  {
   "cell_type": "code",
   "execution_count": 372,
   "metadata": {},
   "outputs": [
    {
     "data": {
      "text/plain": [
       "0.0017961812384094666"
      ]
     },
     "execution_count": 372,
     "metadata": {},
     "output_type": "execute_result"
    }
   ],
   "source": [
    "convexity_adj_earl(0, 0.5, 0.4, 1)"
   ]
  },
  {
   "cell_type": "code",
   "execution_count": 373,
   "metadata": {},
   "outputs": [
    {
     "name": "stdout",
     "output_type": "stream",
     "text": [
      "1.0\n"
     ]
    }
   ],
   "source": [
    "T1=0\n",
    "T2=0.5\n",
    "t=0\n",
    "I = sigma**2 / a**2 * (1/(2 *a) - 1/(2*a) * np.e ** (-2*a*(T1-t)) -\\\n",
    "                           1/a * np.e**(-a*(T2-T1)) + 1/a * np.e**(-a*(T1+T2) + 2*a*t)) + \\\n",
    "                           1/(2*a) * np.e**(-2*a*(T2-T1)) - 1/(2*a) * np.e**(-2*a*(T2-t)) \n",
    "print np.e**I"
   ]
  },
  {
   "cell_type": "code",
   "execution_count": 374,
   "metadata": {},
   "outputs": [
    {
     "data": {
      "text/plain": [
       "6.013846190230371"
      ]
     },
     "execution_count": 374,
     "metadata": {},
     "output_type": "execute_result"
    }
   ],
   "source": [
    "(P(0, 5) - P(0, 6)) / P(0, 6)"
   ]
  },
  {
   "cell_type": "code",
   "execution_count": 375,
   "metadata": {},
   "outputs": [
    {
     "data": {
      "text/plain": [
       "0.4444444444444444"
      ]
     },
     "execution_count": 375,
     "metadata": {},
     "output_type": "execute_result"
    }
   ],
   "source": [
    "2.**2/3.**2\n"
   ]
  },
  {
   "cell_type": "code",
   "execution_count": 376,
   "metadata": {},
   "outputs": [
    {
     "data": {
      "text/plain": [
       "0.4444444444444444"
      ]
     },
     "execution_count": 376,
     "metadata": {},
     "output_type": "execute_result"
    }
   ],
   "source": [
    "4 / 9."
   ]
  },
  {
   "cell_type": "code",
   "execution_count": 377,
   "metadata": {
    "scrolled": true
   },
   "outputs": [
    {
     "data": {
      "image/png": "[encoded data removed]",
      "text/plain": [
       "<matplotlib.figure.Figure at 0xb514c50>"
      ]
     },
     "metadata": {},
     "output_type": "display_data"
    }
   ],
   "source": [
    "plt.plot(T, P(0, T))\n",
    "plt.show()"
   ]
  },
  {
   "cell_type": "markdown",
   "metadata": {},
   "source": [
    "### Асимптотики"
   ]
  },
  {
   "cell_type": "code",
   "execution_count": 378,
   "metadata": {},
   "outputs": [],
   "source": [
    "tau = 0.5\n",
    "a = 0.7\n",
    "b = 0.05\n",
    "theta = a * b\n",
    "sigma = 0.1\n",
    "T_n = 30.\n",
    "r_t = 0.05"
   ]
  },
  {
   "cell_type": "markdown",
   "metadata": {},
   "source": [
    "in-arrears"
   ]
  },
  {
   "cell_type": "code",
   "execution_count": 379,
   "metadata": {
    "scrolled": true
   },
   "outputs": [
    {
     "name": "stdout",
     "output_type": "stream",
     "text": [
      "25.9926284101\n"
     ]
    }
   ],
   "source": [
    "limP1 = np.e**((theta/a - sigma**2/(2*a))*tau)\n",
    "limP2 = np.e**(-(theta/a - sigma**2/(2*a))*tau)\n",
    "\n",
    "limI = sigma**2/(a**2) * (1/(2*a) - 1/a*np.e**(-a*tau) + 1/(2*a)*np.e**(-2*a*tau))\n",
    "\n",
    "asymp1 = 1/tau * ((limP1 - 1) * (limP2 - 1)) + 1/tau * limP2 * (limP1**2 * np.e**limI - 2*limP1 + 1)\n",
    "\n",
    "print asymp1*10000"
   ]
  },
  {
   "cell_type": "markdown",
   "metadata": {},
   "source": [
    "До фиксинга"
   ]
  },
  {
   "cell_type": "code",
   "execution_count": 380,
   "metadata": {},
   "outputs": [
    {
     "name": "stdout",
     "output_type": "stream",
     "text": [
      "31.2282488428\n"
     ]
    }
   ],
   "source": [
    "taus = 1\n",
    "limP1 = np.e**((theta/a - sigma**2/(2*a))*tau)\n",
    "limP2 = np.e**(-(theta/a - sigma**2/(2*a))*tau)\n",
    "limPs1 = np.e**((theta/a - sigma**2/(2*a))*taus)\n",
    "limPs2 = np.e**(-(theta/a - sigma**2/(2*a))*taus)\n",
    "\n",
    "limIs = sigma**2/(2*a**3) * (np.e**(-a*0.5) - np.e**(-a*taus) - np.e**(-a*1.5) + np.e**(-2*a*taus))\n",
    "\n",
    "asymp2 = 1/tau * ((limP1 - 1) * (limPs2 - 1)) + 1/tau * limPs2 * (limP1*limPs1 * np.e**limIs - limP1 - limPs1 + 1)\n",
    "\n",
    "print asymp2*10000"
   ]
  },
  {
   "cell_type": "markdown",
   "metadata": {},
   "source": [
    "После фиксинга"
   ]
  },
  {
   "cell_type": "code",
   "execution_count": 381,
   "metadata": {},
   "outputs": [
    {
     "name": "stdout",
     "output_type": "stream",
     "text": [
      "14.4897857194\n"
     ]
    }
   ],
   "source": [
    "taup = 0.3\n",
    "limP1 = np.e**((theta/a - sigma**2/(2*a))*tau)\n",
    "limP2 = np.e**(-(theta/a - sigma**2/(2*a))*tau)\n",
    "limPp1 = np.e**((theta/a - sigma**2/(2*a))*taup)\n",
    "limPp2 = np.e**(-(theta/a - sigma**2/(2*a))*taup)\n",
    "\n",
    "limIp = sigma**2/(2*a**3) * (np.e**(-a* 0.2) - np.e**(-a*tau) - np.e**(-a*0.7) + np.e**(-2*a*tau))\n",
    "\n",
    "asymp3 = 1/tau * ((limP1 - 1) * (limPp2 - 1)) + 1/tau * limPp2 * (limP1*limPp1 * np.e**limIp - limP1 - limPp1 + 1)\n",
    "\n",
    "print asymp3*10000"
   ]
  },
  {
   "cell_type": "code",
   "execution_count": 382,
   "metadata": {},
   "outputs": [
    {
     "name": "stdout",
     "output_type": "stream",
     "text": [
      "-8.09629021922\n"
     ]
    }
   ],
   "source": [
    "taup = 0.2\n",
    "limP1 = np.e**((theta/a - sigma**2/(2*a))*tau)\n",
    "limP2 = np.e**(-(theta/a - sigma**2/(2*a))*tau)\n",
    "limPp1 = np.e**((theta/a - sigma**2/(2*a))*taup)\n",
    "limPp2 = np.e**(-(theta/a - sigma**2/(2*a))*taup)\n",
    "\n",
    "limIp = sigma**2/(2*a**3) * (np.e**(-a* 0.7) - np.e**(-a*tau) - np.e**(-a*1.2) + np.e**(-2*a*tau))\n",
    "\n",
    "asymp3 = 1/tau * limPp1 * (limP1*limPp2 * np.e**limIp - limPp2) - 1/tau * (limP1-1)\n",
    "\n",
    "print asymp3*10000"
   ]
  }
 ],
 "metadata": {
  "kernelspec": {
   "display_name": "Python 2",
   "language": "python",
   "name": "python2"
  },
  "language_info": {
   "codemirror_mode": {
    "name": "ipython",
    "version": 2
   },
   "file_extension": ".py",
   "mimetype": "text/x-python",
   "name": "python",
   "nbconvert_exporter": "python",
   "pygments_lexer": "ipython2",
   "version": "2.7.14"
  }
 },
 "nbformat": 4,
 "nbformat_minor": 2
}
