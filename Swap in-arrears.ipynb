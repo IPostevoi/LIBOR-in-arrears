{
 "cells": [
  {
   "cell_type": "markdown",
   "metadata": {},
   "source": [
    "### Параметры\n",
    "\n"
   ]
  },
  {
   "cell_type": "code",
   "execution_count": 143,
   "metadata": {},
   "outputs": [],
   "source": [
    "import numpy as np\n",
    "from scipy.integrate import quad\n",
    "from scipy import stats\n",
    "import matplotlib.pyplot as plt\n",
    "%matplotlib inline"
   ]
  },
  {
   "cell_type": "code",
   "execution_count": 144,
   "metadata": {},
   "outputs": [],
   "source": [
    "folder = 'pics/'"
   ]
  },
  {
   "cell_type": "code",
   "execution_count": 145,
   "metadata": {},
   "outputs": [],
   "source": [
    "tau = 0.5\n",
    "a = 0.7\n",
    "b = 0.05\n",
    "theta = a * b\n",
    "sigma = 0.1\n",
    "T_n = 30\n",
    "r_t = 0.05"
   ]
  },
  {
   "cell_type": "code",
   "execution_count": 146,
   "metadata": {},
   "outputs": [],
   "source": [
    "def B(t, T):\n",
    "    return (1 - np.e ** (- a * (T - t))) / a\n",
    "\n",
    "\n",
    "def A(t, T):\n",
    "    return np.e ** ((B(t, T) - (T - t)) * (theta / a - sigma ** 2 / (2 * a ** 2)) - sigma ** 2 * B(t, T) ** 2 / (4 * a))"
   ]
  },
  {
   "cell_type": "code",
   "execution_count": 147,
   "metadata": {},
   "outputs": [],
   "source": [
    "def P(t, T):\n",
    "    return A(t, T) * np.e ** (- r_t * B(t, T))"
   ]
  },
  {
   "cell_type": "code",
   "execution_count": 148,
   "metadata": {},
   "outputs": [],
   "source": [
    "def convexity_adj(t, T1, T2):\n",
    "    \n",
    "    I = sigma**2 / a**2 * (1/(2 *a) - 1/(2*a) * np.e ** (-2*a*(T1-t)) -\\\n",
    "                           1/a * np.e**(-a*(T2-T1)) + 1/a * np.e**(-a*(T1+T2) + 2*a*t)) + \\\n",
    "                           1/(2*a) * np.e**(-2*a*(T2-T1)) - 1/(2*a) * np.e**(-2*a*(T2-t))     \n",
    "                           \n",
    "    return tau * ((P(t, T1) / P(t, T2))**2 * np.e**I - 2 * (P(t, T1) / P(t, T2)) + 1)"
   ]
  },
  {
   "cell_type": "code",
   "execution_count": 149,
   "metadata": {},
   "outputs": [],
   "source": [
    "T = np.arange(0, T_n, tau)"
   ]
  },
  {
   "cell_type": "code",
   "execution_count": 155,
   "metadata": {},
   "outputs": [],
   "source": [
    "convexity1 = np.zeros(len(T))\n",
    "convexity2 = np.zeros(len(T))\n",
    "for i in np.arange(len(T)-1):\n",
    "    convexity1[i] = convexity_adj(0, T[i], T[i+1])\n",
    "    \n",
    "b = 0.001   \n",
    "convexity2 = np.zeros(len(T))\n",
    "for i in np.arange(len(T)-1):\n",
    "    convexity2[i] = convexity_adj(0, T[i], T[i+1])    "
   ]
  },
  {
   "cell_type": "code",
   "execution_count": 156,
   "metadata": {
    "scrolled": false
   },
   "outputs": [
    {
     "data": {
      "image/png": "[encoded data removed]",
      "text/plain": [
       "<matplotlib.figure.Figure at 0x9fa50b8>"
      ]
     },
     "metadata": {},
     "output_type": "display_data"
    }
   ],
   "source": [
    "fig = plt.figure(figsize=(8, 6), dpi= 80, facecolor='w', edgecolor='k')\n",
    "plt.plot(T, convexity1)\n",
    "plt.plot(T, convexity2)\n",
    "plt.axis([0, 20, 0, 0.3])\n",
    "plt.grid(True)\n",
    "plt.title(u'Поправка к форвардной LIBOR ставке', fontsize=15)\n",
    "plt.ylabel('$\\\\tau_i\\mathbb{E}_{Q_{T_2}}[L(T_i;T_i,T_{i+1})^2\\\\vert\\mathcal{F}_t]$', fontsize=15)\n",
    "plt.xlabel(u'$T_i$, года', fontsize=15)\n",
    "plt.show()\n",
    "fig.savefig(folder + 'conv-adj.png', dpi=fig.dpi, transparent=True)"
   ]
  },
  {
   "cell_type": "code",
   "execution_count": 152,
   "metadata": {},
   "outputs": [
    {
     "ename": "SyntaxError",
     "evalue": "invalid syntax (<ipython-input-152-f7f462d78dfe>, line 1)",
     "output_type": "error",
     "traceback": [
      "\u001b[1;36m  File \u001b[1;32m\"<ipython-input-152-f7f462d78dfe>\"\u001b[1;36m, line \u001b[1;32m1\u001b[0m\n\u001b[1;33m    = plt.figure(figsize=(8, 6), dpi= 80, facecolor='w', edgecolor='k')\u001b[0m\n\u001b[1;37m    ^\u001b[0m\n\u001b[1;31mSyntaxError\u001b[0m\u001b[1;31m:\u001b[0m invalid syntax\n"
     ]
    }
   ],
   "source": [
    " = plt.figure(figsize=(8, 6), dpi= 80, facecolor='w', edgecolor='k')\n",
    "plt.plot(T, convexity)\n",
    "plt.axis([0, 20, 0, 0.3])\n",
    "plt.grid(True)\n",
    "plt.title(u'Поправка к форвардной LIBOR ставке', fontsize=15)\n",
    "plt.ylabel('$\\\\tau_i\\mathbb{E}_{Q_{T_2}}[L(T_i;T_i,T_{i+1})^2\\\\vert\\mathcal{F}_t]$', fontsize=15)\n",
    "plt.xlabel(u'$T_i$, года', fontsize=15)\n",
    "plt.show()\n",
    "fig.savefig(folder + 'conv-adj.png', dpi=fig.dpi, transparent=True)"
   ]
  },
  {
   "cell_type": "markdown",
   "metadata": {},
   "source": [
    "$\\tau$"
   ]
  },
  {
   "cell_type": "code",
   "execution_count": null,
   "metadata": {},
   "outputs": [],
   "source": [
    "T1=0\n",
    "T2=0.5\n",
    "t=0\n",
    "I = sigma**2 / a**2 * (1/(2 *a) - 1/(2*a) * np.e ** (-2*a*(T1-t)) -\\\n",
    "                           1/a * np.e**(-a*(T2-T1)) + 1/a * np.e**(-a*(T1+T2) + 2*a*t)) + \\\n",
    "                           1/(2*a) * np.e**(-2*a*(T2-T1)) - 1/(2*a) * np.e**(-2*a*(T2-t)) \n",
    "print np.e**I"
   ]
  }
 ],
 "metadata": {
  "kernelspec": {
   "display_name": "Python 2",
   "language": "python",
   "name": "python2"
  },
  "language_info": {
   "codemirror_mode": {
    "name": "ipython",
    "version": 2
   },
   "file_extension": ".py",
   "mimetype": "text/x-python",
   "name": "python",
   "nbconvert_exporter": "python",
   "pygments_lexer": "ipython2",
   "version": "2.7.14"
  }
 },
 "nbformat": 4,
 "nbformat_minor": 2
}
